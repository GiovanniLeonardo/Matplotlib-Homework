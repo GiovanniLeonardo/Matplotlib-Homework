{
 "cells": [
  {
   "cell_type": "markdown",
   "metadata": {},
   "source": [
    "## Matplotlib Homework - The Power of Plots"
   ]
  },
  {
   "cell_type": "code",
   "execution_count": 44,
   "metadata": {
    "scrolled": false
   },
   "outputs": [],
   "source": [
    "# Load Dependencies\n",
    "import matplotlib.pyplot as plt\n",
    "import pandas as pd\n",
    "import numpy as np\n",
    "import scipy.stats as st\n",
    "from tabulate import tabulate\n",
    "\n",
    "\n",
    "# path to CSV data\n",
    "mouse_csv = \"data/Mouse_metadata.csv\"\n",
    "study_csv = \"data/Study_results.csv\"\n",
    "\n",
    "# Read the CSV data\n",
    "mouse_df = pd.read_csv(mouse_csv)\n",
    "study_df = pd.read_csv(study_csv)\n",
    "\n",
    "# combine the two dataset mouse and study\n",
    "# combined_df = pd.merge(study_df, mouse_df, how=\"inner\", on=[\"Mouse ID\", \"Mouse ID\"])\n",
    "\n"
   ]
  },
  {
   "cell_type": "code",
   "execution_count": 45,
   "metadata": {
    "scrolled": false
   },
   "outputs": [
    {
     "name": "stdout",
     "output_type": "stream",
     "text": [
      "<class 'pandas.core.frame.DataFrame'>\n",
      "Int64Index: 1893 entries, 0 to 1892\n",
      "Data columns (total 8 columns):\n",
      " #   Column              Non-Null Count  Dtype  \n",
      "---  ------              --------------  -----  \n",
      " 0   Mouse ID            1893 non-null   object \n",
      " 1   Drug Regimen        1893 non-null   object \n",
      " 2   Sex                 1893 non-null   object \n",
      " 3   Age_months          1893 non-null   int64  \n",
      " 4   Weight (g)          1893 non-null   int64  \n",
      " 5   Timepoint           1893 non-null   int64  \n",
      " 6   Tumor Volume (mm3)  1893 non-null   float64\n",
      " 7   Metastatic Sites    1893 non-null   int64  \n",
      "dtypes: float64(1), int64(4), object(3)\n",
      "memory usage: 133.1+ KB\n"
     ]
    }
   ],
   "source": [
    "# Merge our two data frames together\n",
    "combined_data = pd.merge(mouse_df, study_df, on=\"Mouse ID\")\n",
    "# Review the information on the newly created merged dataframe\n",
    "combined_data.info()"
   ]
  },
  {
   "cell_type": "code",
   "execution_count": 46,
   "metadata": {},
   "outputs": [
    {
     "data": {
      "text/html": [
       "<style  type=\"text/css\" >\n",
       "    #T_c273d7d4_ae2e_11ea_91a3_b46bfcdeb885  {\n",
       "          border: 4px solid #7a7;\n",
       "    }</style><table id=\"T_c273d7d4_ae2e_11ea_91a3_b46bfcdeb885\" ><thead>    <tr>        <th class=\"blank level0\" ></th>        <th class=\"col_heading level0 col0\" >Mouse_ID</th>        <th class=\"col_heading level0 col1\" >Timepoint</th>        <th class=\"col_heading level0 col2\" >Tumor_Volume_(mm3)</th>        <th class=\"col_heading level0 col3\" >Metastatic_Sites</th>        <th class=\"col_heading level0 col4\" >Drug_Regimen</th>        <th class=\"col_heading level0 col5\" >Sex</th>        <th class=\"col_heading level0 col6\" >Age_months</th>        <th class=\"col_heading level0 col7\" >Weight_(g)</th>    </tr></thead><tbody>\n",
       "                <tr>\n",
       "                        <th id=\"T_c273d7d4_ae2e_11ea_91a3_b46bfcdeb885level0_row0\" class=\"row_heading level0 row0\" >0</th>\n",
       "                        <td id=\"T_c273d7d4_ae2e_11ea_91a3_b46bfcdeb885row0_col0\" class=\"data row0 col0\" >b128</td>\n",
       "                        <td id=\"T_c273d7d4_ae2e_11ea_91a3_b46bfcdeb885row0_col1\" class=\"data row0 col1\" >0</td>\n",
       "                        <td id=\"T_c273d7d4_ae2e_11ea_91a3_b46bfcdeb885row0_col2\" class=\"data row0 col2\" >45.000000</td>\n",
       "                        <td id=\"T_c273d7d4_ae2e_11ea_91a3_b46bfcdeb885row0_col3\" class=\"data row0 col3\" >0</td>\n",
       "                        <td id=\"T_c273d7d4_ae2e_11ea_91a3_b46bfcdeb885row0_col4\" class=\"data row0 col4\" >Capomulin</td>\n",
       "                        <td id=\"T_c273d7d4_ae2e_11ea_91a3_b46bfcdeb885row0_col5\" class=\"data row0 col5\" >Female</td>\n",
       "                        <td id=\"T_c273d7d4_ae2e_11ea_91a3_b46bfcdeb885row0_col6\" class=\"data row0 col6\" >9</td>\n",
       "                        <td id=\"T_c273d7d4_ae2e_11ea_91a3_b46bfcdeb885row0_col7\" class=\"data row0 col7\" >22</td>\n",
       "            </tr>\n",
       "            <tr>\n",
       "                        <th id=\"T_c273d7d4_ae2e_11ea_91a3_b46bfcdeb885level0_row1\" class=\"row_heading level0 row1\" >1</th>\n",
       "                        <td id=\"T_c273d7d4_ae2e_11ea_91a3_b46bfcdeb885row1_col0\" class=\"data row1 col0\" >b128</td>\n",
       "                        <td id=\"T_c273d7d4_ae2e_11ea_91a3_b46bfcdeb885row1_col1\" class=\"data row1 col1\" >5</td>\n",
       "                        <td id=\"T_c273d7d4_ae2e_11ea_91a3_b46bfcdeb885row1_col2\" class=\"data row1 col2\" >45.651331</td>\n",
       "                        <td id=\"T_c273d7d4_ae2e_11ea_91a3_b46bfcdeb885row1_col3\" class=\"data row1 col3\" >0</td>\n",
       "                        <td id=\"T_c273d7d4_ae2e_11ea_91a3_b46bfcdeb885row1_col4\" class=\"data row1 col4\" >Capomulin</td>\n",
       "                        <td id=\"T_c273d7d4_ae2e_11ea_91a3_b46bfcdeb885row1_col5\" class=\"data row1 col5\" >Female</td>\n",
       "                        <td id=\"T_c273d7d4_ae2e_11ea_91a3_b46bfcdeb885row1_col6\" class=\"data row1 col6\" >9</td>\n",
       "                        <td id=\"T_c273d7d4_ae2e_11ea_91a3_b46bfcdeb885row1_col7\" class=\"data row1 col7\" >22</td>\n",
       "            </tr>\n",
       "            <tr>\n",
       "                        <th id=\"T_c273d7d4_ae2e_11ea_91a3_b46bfcdeb885level0_row2\" class=\"row_heading level0 row2\" >2</th>\n",
       "                        <td id=\"T_c273d7d4_ae2e_11ea_91a3_b46bfcdeb885row2_col0\" class=\"data row2 col0\" >b128</td>\n",
       "                        <td id=\"T_c273d7d4_ae2e_11ea_91a3_b46bfcdeb885row2_col1\" class=\"data row2 col1\" >10</td>\n",
       "                        <td id=\"T_c273d7d4_ae2e_11ea_91a3_b46bfcdeb885row2_col2\" class=\"data row2 col2\" >43.270852</td>\n",
       "                        <td id=\"T_c273d7d4_ae2e_11ea_91a3_b46bfcdeb885row2_col3\" class=\"data row2 col3\" >0</td>\n",
       "                        <td id=\"T_c273d7d4_ae2e_11ea_91a3_b46bfcdeb885row2_col4\" class=\"data row2 col4\" >Capomulin</td>\n",
       "                        <td id=\"T_c273d7d4_ae2e_11ea_91a3_b46bfcdeb885row2_col5\" class=\"data row2 col5\" >Female</td>\n",
       "                        <td id=\"T_c273d7d4_ae2e_11ea_91a3_b46bfcdeb885row2_col6\" class=\"data row2 col6\" >9</td>\n",
       "                        <td id=\"T_c273d7d4_ae2e_11ea_91a3_b46bfcdeb885row2_col7\" class=\"data row2 col7\" >22</td>\n",
       "            </tr>\n",
       "            <tr>\n",
       "                        <th id=\"T_c273d7d4_ae2e_11ea_91a3_b46bfcdeb885level0_row3\" class=\"row_heading level0 row3\" >3</th>\n",
       "                        <td id=\"T_c273d7d4_ae2e_11ea_91a3_b46bfcdeb885row3_col0\" class=\"data row3 col0\" >b128</td>\n",
       "                        <td id=\"T_c273d7d4_ae2e_11ea_91a3_b46bfcdeb885row3_col1\" class=\"data row3 col1\" >15</td>\n",
       "                        <td id=\"T_c273d7d4_ae2e_11ea_91a3_b46bfcdeb885row3_col2\" class=\"data row3 col2\" >43.784893</td>\n",
       "                        <td id=\"T_c273d7d4_ae2e_11ea_91a3_b46bfcdeb885row3_col3\" class=\"data row3 col3\" >0</td>\n",
       "                        <td id=\"T_c273d7d4_ae2e_11ea_91a3_b46bfcdeb885row3_col4\" class=\"data row3 col4\" >Capomulin</td>\n",
       "                        <td id=\"T_c273d7d4_ae2e_11ea_91a3_b46bfcdeb885row3_col5\" class=\"data row3 col5\" >Female</td>\n",
       "                        <td id=\"T_c273d7d4_ae2e_11ea_91a3_b46bfcdeb885row3_col6\" class=\"data row3 col6\" >9</td>\n",
       "                        <td id=\"T_c273d7d4_ae2e_11ea_91a3_b46bfcdeb885row3_col7\" class=\"data row3 col7\" >22</td>\n",
       "            </tr>\n",
       "            <tr>\n",
       "                        <th id=\"T_c273d7d4_ae2e_11ea_91a3_b46bfcdeb885level0_row4\" class=\"row_heading level0 row4\" >4</th>\n",
       "                        <td id=\"T_c273d7d4_ae2e_11ea_91a3_b46bfcdeb885row4_col0\" class=\"data row4 col0\" >b128</td>\n",
       "                        <td id=\"T_c273d7d4_ae2e_11ea_91a3_b46bfcdeb885row4_col1\" class=\"data row4 col1\" >20</td>\n",
       "                        <td id=\"T_c273d7d4_ae2e_11ea_91a3_b46bfcdeb885row4_col2\" class=\"data row4 col2\" >42.731552</td>\n",
       "                        <td id=\"T_c273d7d4_ae2e_11ea_91a3_b46bfcdeb885row4_col3\" class=\"data row4 col3\" >0</td>\n",
       "                        <td id=\"T_c273d7d4_ae2e_11ea_91a3_b46bfcdeb885row4_col4\" class=\"data row4 col4\" >Capomulin</td>\n",
       "                        <td id=\"T_c273d7d4_ae2e_11ea_91a3_b46bfcdeb885row4_col5\" class=\"data row4 col5\" >Female</td>\n",
       "                        <td id=\"T_c273d7d4_ae2e_11ea_91a3_b46bfcdeb885row4_col6\" class=\"data row4 col6\" >9</td>\n",
       "                        <td id=\"T_c273d7d4_ae2e_11ea_91a3_b46bfcdeb885row4_col7\" class=\"data row4 col7\" >22</td>\n",
       "            </tr>\n",
       "    </tbody></table>"
      ],
      "text/plain": [
       "<pandas.io.formats.style.Styler at 0x1a71c4b3d48>"
      ]
     },
     "execution_count": 46,
     "metadata": {},
     "output_type": "execute_result"
    }
   ],
   "source": [
    "#Cleaned data - Replace spaces in column names with under_score\n",
    "combined_df.columns = combined_df.columns.str.replace(' ', '_')\n",
    "combined_df.head().style.set_table_styles([{'selector':'','props':[('border','4px solid #7a7')]}])"
   ]
  },
  {
   "cell_type": "markdown",
   "metadata": {},
   "source": [
    "## Summary statistics table \n",
    "### With \"mean\", \"median\", \"variance\", \"standard deviation\", and \"SEM\" of the tumor volume for each regim"
   ]
  },
  {
   "cell_type": "code",
   "execution_count": 47,
   "metadata": {
    "scrolled": false
   },
   "outputs": [
    {
     "data": {
      "text/html": [
       "<style  type=\"text/css\" >\n",
       "    #T_c3f0212c_ae2e_11ea_841b_b46bfcdeb885  {\n",
       "          border: 4px solid #7a7;\n",
       "    }</style><table id=\"T_c3f0212c_ae2e_11ea_841b_b46bfcdeb885\" ><thead>    <tr>        <th class=\"blank level0\" ></th>        <th class=\"col_heading level0 col0\" >Total Trials</th>        <th class=\"col_heading level0 col1\" >Mean</th>        <th class=\"col_heading level0 col2\" >Median</th>        <th class=\"col_heading level0 col3\" >Variance</th>        <th class=\"col_heading level0 col4\" >Standard_Dev</th>        <th class=\"col_heading level0 col5\" >SEM</th>    </tr>    <tr>        <th class=\"index_name level0\" >Drug_Regimen</th>        <th class=\"blank\" ></th>        <th class=\"blank\" ></th>        <th class=\"blank\" ></th>        <th class=\"blank\" ></th>        <th class=\"blank\" ></th>        <th class=\"blank\" ></th>    </tr></thead><tbody>\n",
       "                <tr>\n",
       "                        <th id=\"T_c3f0212c_ae2e_11ea_841b_b46bfcdeb885level0_row0\" class=\"row_heading level0 row0\" >Capomulin</th>\n",
       "                        <td id=\"T_c3f0212c_ae2e_11ea_841b_b46bfcdeb885row0_col0\" class=\"data row0 col0\" >230</td>\n",
       "                        <td id=\"T_c3f0212c_ae2e_11ea_841b_b46bfcdeb885row0_col1\" class=\"data row0 col1\" >40.675741</td>\n",
       "                        <td id=\"T_c3f0212c_ae2e_11ea_841b_b46bfcdeb885row0_col2\" class=\"data row0 col2\" >41.557809</td>\n",
       "                        <td id=\"T_c3f0212c_ae2e_11ea_841b_b46bfcdeb885row0_col3\" class=\"data row0 col3\" >24.947764</td>\n",
       "                        <td id=\"T_c3f0212c_ae2e_11ea_841b_b46bfcdeb885row0_col4\" class=\"data row0 col4\" >4.994774</td>\n",
       "                        <td id=\"T_c3f0212c_ae2e_11ea_841b_b46bfcdeb885row0_col5\" class=\"data row0 col5\" >0.329346</td>\n",
       "            </tr>\n",
       "            <tr>\n",
       "                        <th id=\"T_c3f0212c_ae2e_11ea_841b_b46bfcdeb885level0_row1\" class=\"row_heading level0 row1\" >Ceftamin</th>\n",
       "                        <td id=\"T_c3f0212c_ae2e_11ea_841b_b46bfcdeb885row1_col0\" class=\"data row1 col0\" >178</td>\n",
       "                        <td id=\"T_c3f0212c_ae2e_11ea_841b_b46bfcdeb885row1_col1\" class=\"data row1 col1\" >52.591172</td>\n",
       "                        <td id=\"T_c3f0212c_ae2e_11ea_841b_b46bfcdeb885row1_col2\" class=\"data row1 col2\" >51.776157</td>\n",
       "                        <td id=\"T_c3f0212c_ae2e_11ea_841b_b46bfcdeb885row1_col3\" class=\"data row1 col3\" >39.290177</td>\n",
       "                        <td id=\"T_c3f0212c_ae2e_11ea_841b_b46bfcdeb885row1_col4\" class=\"data row1 col4\" >6.268188</td>\n",
       "                        <td id=\"T_c3f0212c_ae2e_11ea_841b_b46bfcdeb885row1_col5\" class=\"data row1 col5\" >0.469821</td>\n",
       "            </tr>\n",
       "            <tr>\n",
       "                        <th id=\"T_c3f0212c_ae2e_11ea_841b_b46bfcdeb885level0_row2\" class=\"row_heading level0 row2\" >Infubinol</th>\n",
       "                        <td id=\"T_c3f0212c_ae2e_11ea_841b_b46bfcdeb885row2_col0\" class=\"data row2 col0\" >178</td>\n",
       "                        <td id=\"T_c3f0212c_ae2e_11ea_841b_b46bfcdeb885row2_col1\" class=\"data row2 col1\" >52.884795</td>\n",
       "                        <td id=\"T_c3f0212c_ae2e_11ea_841b_b46bfcdeb885row2_col2\" class=\"data row2 col2\" >51.820584</td>\n",
       "                        <td id=\"T_c3f0212c_ae2e_11ea_841b_b46bfcdeb885row2_col3\" class=\"data row2 col3\" >43.128684</td>\n",
       "                        <td id=\"T_c3f0212c_ae2e_11ea_841b_b46bfcdeb885row2_col4\" class=\"data row2 col4\" >6.567243</td>\n",
       "                        <td id=\"T_c3f0212c_ae2e_11ea_841b_b46bfcdeb885row2_col5\" class=\"data row2 col5\" >0.492236</td>\n",
       "            </tr>\n",
       "            <tr>\n",
       "                        <th id=\"T_c3f0212c_ae2e_11ea_841b_b46bfcdeb885level0_row3\" class=\"row_heading level0 row3\" >Ketapril</th>\n",
       "                        <td id=\"T_c3f0212c_ae2e_11ea_841b_b46bfcdeb885row3_col0\" class=\"data row3 col0\" >188</td>\n",
       "                        <td id=\"T_c3f0212c_ae2e_11ea_841b_b46bfcdeb885row3_col1\" class=\"data row3 col1\" >55.235638</td>\n",
       "                        <td id=\"T_c3f0212c_ae2e_11ea_841b_b46bfcdeb885row3_col2\" class=\"data row3 col2\" >53.698743</td>\n",
       "                        <td id=\"T_c3f0212c_ae2e_11ea_841b_b46bfcdeb885row3_col3\" class=\"data row3 col3\" >68.553577</td>\n",
       "                        <td id=\"T_c3f0212c_ae2e_11ea_841b_b46bfcdeb885row3_col4\" class=\"data row3 col4\" >8.279709</td>\n",
       "                        <td id=\"T_c3f0212c_ae2e_11ea_841b_b46bfcdeb885row3_col5\" class=\"data row3 col5\" >0.603860</td>\n",
       "            </tr>\n",
       "            <tr>\n",
       "                        <th id=\"T_c3f0212c_ae2e_11ea_841b_b46bfcdeb885level0_row4\" class=\"row_heading level0 row4\" >Naftisol</th>\n",
       "                        <td id=\"T_c3f0212c_ae2e_11ea_841b_b46bfcdeb885row4_col0\" class=\"data row4 col0\" >186</td>\n",
       "                        <td id=\"T_c3f0212c_ae2e_11ea_841b_b46bfcdeb885row4_col1\" class=\"data row4 col1\" >54.331565</td>\n",
       "                        <td id=\"T_c3f0212c_ae2e_11ea_841b_b46bfcdeb885row4_col2\" class=\"data row4 col2\" >52.509285</td>\n",
       "                        <td id=\"T_c3f0212c_ae2e_11ea_841b_b46bfcdeb885row4_col3\" class=\"data row4 col3\" >66.173479</td>\n",
       "                        <td id=\"T_c3f0212c_ae2e_11ea_841b_b46bfcdeb885row4_col4\" class=\"data row4 col4\" >8.134708</td>\n",
       "                        <td id=\"T_c3f0212c_ae2e_11ea_841b_b46bfcdeb885row4_col5\" class=\"data row4 col5\" >0.596466</td>\n",
       "            </tr>\n",
       "            <tr>\n",
       "                        <th id=\"T_c3f0212c_ae2e_11ea_841b_b46bfcdeb885level0_row5\" class=\"row_heading level0 row5\" >Placebo</th>\n",
       "                        <td id=\"T_c3f0212c_ae2e_11ea_841b_b46bfcdeb885row5_col0\" class=\"data row5 col0\" >181</td>\n",
       "                        <td id=\"T_c3f0212c_ae2e_11ea_841b_b46bfcdeb885row5_col1\" class=\"data row5 col1\" >54.033581</td>\n",
       "                        <td id=\"T_c3f0212c_ae2e_11ea_841b_b46bfcdeb885row5_col2\" class=\"data row5 col2\" >52.288934</td>\n",
       "                        <td id=\"T_c3f0212c_ae2e_11ea_841b_b46bfcdeb885row5_col3\" class=\"data row5 col3\" >61.168083</td>\n",
       "                        <td id=\"T_c3f0212c_ae2e_11ea_841b_b46bfcdeb885row5_col4\" class=\"data row5 col4\" >7.821003</td>\n",
       "                        <td id=\"T_c3f0212c_ae2e_11ea_841b_b46bfcdeb885row5_col5\" class=\"data row5 col5\" >0.581331</td>\n",
       "            </tr>\n",
       "            <tr>\n",
       "                        <th id=\"T_c3f0212c_ae2e_11ea_841b_b46bfcdeb885level0_row6\" class=\"row_heading level0 row6\" >Propriva</th>\n",
       "                        <td id=\"T_c3f0212c_ae2e_11ea_841b_b46bfcdeb885row6_col0\" class=\"data row6 col0\" >161</td>\n",
       "                        <td id=\"T_c3f0212c_ae2e_11ea_841b_b46bfcdeb885row6_col1\" class=\"data row6 col1\" >52.322552</td>\n",
       "                        <td id=\"T_c3f0212c_ae2e_11ea_841b_b46bfcdeb885row6_col2\" class=\"data row6 col2\" >50.854632</td>\n",
       "                        <td id=\"T_c3f0212c_ae2e_11ea_841b_b46bfcdeb885row6_col3\" class=\"data row6 col3\" >42.351070</td>\n",
       "                        <td id=\"T_c3f0212c_ae2e_11ea_841b_b46bfcdeb885row6_col4\" class=\"data row6 col4\" >6.507770</td>\n",
       "                        <td id=\"T_c3f0212c_ae2e_11ea_841b_b46bfcdeb885row6_col5\" class=\"data row6 col5\" >0.512884</td>\n",
       "            </tr>\n",
       "            <tr>\n",
       "                        <th id=\"T_c3f0212c_ae2e_11ea_841b_b46bfcdeb885level0_row7\" class=\"row_heading level0 row7\" >Ramicane</th>\n",
       "                        <td id=\"T_c3f0212c_ae2e_11ea_841b_b46bfcdeb885row7_col0\" class=\"data row7 col0\" >228</td>\n",
       "                        <td id=\"T_c3f0212c_ae2e_11ea_841b_b46bfcdeb885row7_col1\" class=\"data row7 col1\" >40.216745</td>\n",
       "                        <td id=\"T_c3f0212c_ae2e_11ea_841b_b46bfcdeb885row7_col2\" class=\"data row7 col2\" >40.673236</td>\n",
       "                        <td id=\"T_c3f0212c_ae2e_11ea_841b_b46bfcdeb885row7_col3\" class=\"data row7 col3\" >23.486704</td>\n",
       "                        <td id=\"T_c3f0212c_ae2e_11ea_841b_b46bfcdeb885row7_col4\" class=\"data row7 col4\" >4.846308</td>\n",
       "                        <td id=\"T_c3f0212c_ae2e_11ea_841b_b46bfcdeb885row7_col5\" class=\"data row7 col5\" >0.320955</td>\n",
       "            </tr>\n",
       "            <tr>\n",
       "                        <th id=\"T_c3f0212c_ae2e_11ea_841b_b46bfcdeb885level0_row8\" class=\"row_heading level0 row8\" >Stelasyn</th>\n",
       "                        <td id=\"T_c3f0212c_ae2e_11ea_841b_b46bfcdeb885row8_col0\" class=\"data row8 col0\" >181</td>\n",
       "                        <td id=\"T_c3f0212c_ae2e_11ea_841b_b46bfcdeb885row8_col1\" class=\"data row8 col1\" >54.233149</td>\n",
       "                        <td id=\"T_c3f0212c_ae2e_11ea_841b_b46bfcdeb885row8_col2\" class=\"data row8 col2\" >52.431737</td>\n",
       "                        <td id=\"T_c3f0212c_ae2e_11ea_841b_b46bfcdeb885row8_col3\" class=\"data row8 col3\" >59.450562</td>\n",
       "                        <td id=\"T_c3f0212c_ae2e_11ea_841b_b46bfcdeb885row8_col4\" class=\"data row8 col4\" >7.710419</td>\n",
       "                        <td id=\"T_c3f0212c_ae2e_11ea_841b_b46bfcdeb885row8_col5\" class=\"data row8 col5\" >0.573111</td>\n",
       "            </tr>\n",
       "            <tr>\n",
       "                        <th id=\"T_c3f0212c_ae2e_11ea_841b_b46bfcdeb885level0_row9\" class=\"row_heading level0 row9\" >Zoniferol</th>\n",
       "                        <td id=\"T_c3f0212c_ae2e_11ea_841b_b46bfcdeb885row9_col0\" class=\"data row9 col0\" >182</td>\n",
       "                        <td id=\"T_c3f0212c_ae2e_11ea_841b_b46bfcdeb885row9_col1\" class=\"data row9 col1\" >53.236507</td>\n",
       "                        <td id=\"T_c3f0212c_ae2e_11ea_841b_b46bfcdeb885row9_col2\" class=\"data row9 col2\" >51.818479</td>\n",
       "                        <td id=\"T_c3f0212c_ae2e_11ea_841b_b46bfcdeb885row9_col3\" class=\"data row9 col3\" >48.533355</td>\n",
       "                        <td id=\"T_c3f0212c_ae2e_11ea_841b_b46bfcdeb885row9_col4\" class=\"data row9 col4\" >6.966589</td>\n",
       "                        <td id=\"T_c3f0212c_ae2e_11ea_841b_b46bfcdeb885row9_col5\" class=\"data row9 col5\" >0.516398</td>\n",
       "            </tr>\n",
       "    </tbody></table>"
      ],
      "text/plain": [
       "<pandas.io.formats.style.Styler at 0x1a71c4c0b48>"
      ]
     },
     "execution_count": 47,
     "metadata": {},
     "output_type": "execute_result"
    }
   ],
   "source": [
    "summary_regimen = combined_df.groupby('Drug_Regimen')\n",
    "\n",
    "regimen_df = pd.DataFrame({\n",
    "            'Total Trials': summary_regimen['Mouse_ID'].count(),\n",
    "            'Mean': summary_regimen['Tumor_Volume_(mm3)'].mean(),\n",
    "            'Median': summary_regimen['Tumor_Volume_(mm3)'].median(),\n",
    "            'Variance': summary_regimen['Tumor_Volume_(mm3)'].var(),\n",
    "            'Standard_Dev': summary_regimen['Tumor_Volume_(mm3)'].std(),\n",
    "            'SEM': summary_regimen['Tumor_Volume_(mm3)'].sem()\n",
    "            })\n",
    "\n",
    "regimen_df.style.set_table_styles([{'selector':'','props':[('border','4px solid #7a7')]}])"
   ]
  },
  {
   "cell_type": "markdown",
   "metadata": {},
   "source": [
    "## Bar plots \n",
    "#### Using Pandas's DataFrame.plot() and Matplotlib's pyplot that shows the number of data points for each treatment regimen."
   ]
  },
  {
   "cell_type": "code",
   "execution_count": 94,
   "metadata": {
    "scrolled": true
   },
   "outputs": [
    {
     "data": {
      "image/png": "[encoded data removed]",
      "text/plain": [
       "<Figure size 720x288 with 1 Axes>"
      ]
     },
     "metadata": {
      "needs_background": "light"
     },
     "output_type": "display_data"
    }
   ],
   "source": [
    "data_point_regimen = pd.DataFrame({\n",
    "            'Count Drug Regimen': summary_regimen['Mouse_ID'].count()\n",
    "            })\n",
    "\n",
    "\n",
    "data_point_regimen.plot(kind='bar', \n",
    "                    title='Count of Data Points For Each Regimen',\n",
    "                    legend=False,\n",
    "                    color='blue',\n",
    "                    figsize = (10,4)\n",
    "                      )\n",
    "plt.savefig(\"images/barchart1.PNG\")\n",
    "plt.show()"
   ]
  },
  {
   "cell_type": "code",
   "execution_count": 95,
   "metadata": {
    "scrolled": true
   },
   "outputs": [
    {
     "data": {
      "image/png": "[encoded data removed]",
      "text/plain": [
       "<Figure size 720x288 with 1 Axes>"
      ]
     },
     "metadata": {
      "needs_background": "light"
     },
     "output_type": "display_data"
    }
   ],
   "source": [
    "# bar plot showing number of data points for each regiment\n",
    "counts = summary_regimen['Mouse_ID'].count()\n",
    "x_axis = np.arange(len(counts))\n",
    "count_ticks = [value for value in x_axis]\n",
    "\n",
    "fig = plt.figure(figsize = (10,4))\n",
    "plt.title(\"Count of data points for each Regimen\", fontsize=12)\n",
    "plt.xlabel(\"Drug_Regimen\", fontsize=12)\n",
    "\n",
    "plt.bar(x_axis,counts, width = .5, color='green')\n",
    "plt.xticks(count_ticks, counts.index.values, fontsize=10, rotation=90,)\n",
    "plt.savefig(\"images/barchart2.PNG\")\n",
    "plt.show()"
   ]
  },
  {
   "cell_type": "markdown",
   "metadata": {},
   "source": [
    "## Pie plots\n",
    "### Shows the distribution of female or male mice in the study."
   ]
  },
  {
   "cell_type": "code",
   "execution_count": 50,
   "metadata": {},
   "outputs": [
    {
     "data": {
      "text/html": [
       "<div>\n",
       "<style scoped>\n",
       "    .dataframe tbody tr th:only-of-type {\n",
       "        vertical-align: middle;\n",
       "    }\n",
       "\n",
       "    .dataframe tbody tr th {\n",
       "        vertical-align: top;\n",
       "    }\n",
       "\n",
       "    .dataframe thead th {\n",
       "        text-align: right;\n",
       "    }\n",
       "</style>\n",
       "<table border=\"1\" class=\"dataframe\">\n",
       "  <thead>\n",
       "    <tr style=\"text-align: right;\">\n",
       "      <th></th>\n",
       "      <th>Sex</th>\n",
       "    </tr>\n",
       "    <tr>\n",
       "      <th>Sex</th>\n",
       "      <th></th>\n",
       "    </tr>\n",
       "  </thead>\n",
       "  <tbody>\n",
       "    <tr>\n",
       "      <th>Female</th>\n",
       "      <td>935</td>\n",
       "    </tr>\n",
       "    <tr>\n",
       "      <th>Male</th>\n",
       "      <td>958</td>\n",
       "    </tr>\n",
       "  </tbody>\n",
       "</table>\n",
       "</div>"
      ],
      "text/plain": [
       "        Sex\n",
       "Sex        \n",
       "Female  935\n",
       "Male    958"
      ]
     },
     "execution_count": 50,
     "metadata": {},
     "output_type": "execute_result"
    }
   ],
   "source": [
    "# DF grouping by \"Sex\" \n",
    "gender = combined_df.groupby('Sex')\n",
    "gender_count = pd.DataFrame(gender['Sex'].count())\n",
    "gender_count.head()"
   ]
  },
  {
   "cell_type": "code",
   "execution_count": 96,
   "metadata": {},
   "outputs": [
    {
     "data": {
      "image/png": "[encoded data removed]",
      "text/plain": [
       "<Figure size 432x288 with 1 Axes>"
      ]
     },
     "metadata": {},
     "output_type": "display_data"
    }
   ],
   "source": [
    "gender_count.plot(kind='pie', y='Sex', \\\n",
    "                  title=\"Distribution by Gender\", startangle=30, \\\n",
    "                 autopct='%1.1f%%', explode=[0, 0.1], shadow=True, fontsize=14, colors =[\"lightblue\",\"orange\"],legend =False)\n",
    "\n",
    "plt.savefig(\"images/pie1.PNG\")"
   ]
  },
  {
   "cell_type": "code",
   "execution_count": 97,
   "metadata": {
    "scrolled": false
   },
   "outputs": [
    {
     "data": {
      "image/png": "[encoded data removed]",
      "text/plain": [
       "<Figure size 432x288 with 1 Axes>"
      ]
     },
     "metadata": {},
     "output_type": "display_data"
    },
    {
     "data": {
      "text/plain": [
       "<Figure size 432x288 with 0 Axes>"
      ]
     },
     "metadata": {},
     "output_type": "display_data"
    }
   ],
   "source": [
    "genders = list(gender_count.index.values)\n",
    "genders_count = gender_count['Sex']\n",
    "\n",
    "plt.pie(genders_count, labels=genders, \n",
    "        autopct=\"%1.1f%%\", explode=[0, 0.1], shadow=True, startangle=30, colors =[\"lightblue\",\"orange\"],)\n",
    "plt.rcParams['font.size'] = 14\n",
    "plt.title(\"Distribution of female versus male mice\")\n",
    "plt.ylabel(\"Sex\")\n",
    "plt.axis(\"equal\")\n",
    "plt.show()\n",
    "plt.savefig(\"images/pie2.PNG\")"
   ]
  },
  {
   "cell_type": "code",
   "execution_count": 80,
   "metadata": {
    "scrolled": true
   },
   "outputs": [
    {
     "data": {
      "text/html": [
       "<style  type=\"text/css\" >\n",
       "    #T_87a617ca_ae30_11ea_9bde_b46bfcdeb885  {\n",
       "          border: 4px solid #7a7;\n",
       "    }</style><table id=\"T_87a617ca_ae30_11ea_9bde_b46bfcdeb885\" ><thead>    <tr>        <th class=\"blank level0\" ></th>        <th class=\"col_heading level0 col0\" >Drug_Regimen</th>        <th class=\"col_heading level0 col1\" >Mouse_ID</th>        <th class=\"col_heading level0 col2\" >Timepoint</th>        <th class=\"col_heading level0 col3\" >Tumor_Volume_(mm3)</th>    </tr></thead><tbody>\n",
       "                <tr>\n",
       "                        <th id=\"T_87a617ca_ae30_11ea_9bde_b46bfcdeb885level0_row0\" class=\"row_heading level0 row0\" >0</th>\n",
       "                        <td id=\"T_87a617ca_ae30_11ea_9bde_b46bfcdeb885row0_col0\" class=\"data row0 col0\" >Capomulin</td>\n",
       "                        <td id=\"T_87a617ca_ae30_11ea_9bde_b46bfcdeb885row0_col1\" class=\"data row0 col1\" >b128</td>\n",
       "                        <td id=\"T_87a617ca_ae30_11ea_9bde_b46bfcdeb885row0_col2\" class=\"data row0 col2\" >0</td>\n",
       "                        <td id=\"T_87a617ca_ae30_11ea_9bde_b46bfcdeb885row0_col3\" class=\"data row0 col3\" >45.000000</td>\n",
       "            </tr>\n",
       "            <tr>\n",
       "                        <th id=\"T_87a617ca_ae30_11ea_9bde_b46bfcdeb885level0_row1\" class=\"row_heading level0 row1\" >1</th>\n",
       "                        <td id=\"T_87a617ca_ae30_11ea_9bde_b46bfcdeb885row1_col0\" class=\"data row1 col0\" >Capomulin</td>\n",
       "                        <td id=\"T_87a617ca_ae30_11ea_9bde_b46bfcdeb885row1_col1\" class=\"data row1 col1\" >b128</td>\n",
       "                        <td id=\"T_87a617ca_ae30_11ea_9bde_b46bfcdeb885row1_col2\" class=\"data row1 col2\" >5</td>\n",
       "                        <td id=\"T_87a617ca_ae30_11ea_9bde_b46bfcdeb885row1_col3\" class=\"data row1 col3\" >45.651331</td>\n",
       "            </tr>\n",
       "            <tr>\n",
       "                        <th id=\"T_87a617ca_ae30_11ea_9bde_b46bfcdeb885level0_row2\" class=\"row_heading level0 row2\" >2</th>\n",
       "                        <td id=\"T_87a617ca_ae30_11ea_9bde_b46bfcdeb885row2_col0\" class=\"data row2 col0\" >Capomulin</td>\n",
       "                        <td id=\"T_87a617ca_ae30_11ea_9bde_b46bfcdeb885row2_col1\" class=\"data row2 col1\" >b128</td>\n",
       "                        <td id=\"T_87a617ca_ae30_11ea_9bde_b46bfcdeb885row2_col2\" class=\"data row2 col2\" >10</td>\n",
       "                        <td id=\"T_87a617ca_ae30_11ea_9bde_b46bfcdeb885row2_col3\" class=\"data row2 col3\" >43.270852</td>\n",
       "            </tr>\n",
       "            <tr>\n",
       "                        <th id=\"T_87a617ca_ae30_11ea_9bde_b46bfcdeb885level0_row3\" class=\"row_heading level0 row3\" >3</th>\n",
       "                        <td id=\"T_87a617ca_ae30_11ea_9bde_b46bfcdeb885row3_col0\" class=\"data row3 col0\" >Capomulin</td>\n",
       "                        <td id=\"T_87a617ca_ae30_11ea_9bde_b46bfcdeb885row3_col1\" class=\"data row3 col1\" >b128</td>\n",
       "                        <td id=\"T_87a617ca_ae30_11ea_9bde_b46bfcdeb885row3_col2\" class=\"data row3 col2\" >15</td>\n",
       "                        <td id=\"T_87a617ca_ae30_11ea_9bde_b46bfcdeb885row3_col3\" class=\"data row3 col3\" >43.784893</td>\n",
       "            </tr>\n",
       "            <tr>\n",
       "                        <th id=\"T_87a617ca_ae30_11ea_9bde_b46bfcdeb885level0_row4\" class=\"row_heading level0 row4\" >4</th>\n",
       "                        <td id=\"T_87a617ca_ae30_11ea_9bde_b46bfcdeb885row4_col0\" class=\"data row4 col0\" >Capomulin</td>\n",
       "                        <td id=\"T_87a617ca_ae30_11ea_9bde_b46bfcdeb885row4_col1\" class=\"data row4 col1\" >b128</td>\n",
       "                        <td id=\"T_87a617ca_ae30_11ea_9bde_b46bfcdeb885row4_col2\" class=\"data row4 col2\" >20</td>\n",
       "                        <td id=\"T_87a617ca_ae30_11ea_9bde_b46bfcdeb885row4_col3\" class=\"data row4 col3\" >42.731552</td>\n",
       "            </tr>\n",
       "    </tbody></table>"
      ],
      "text/plain": [
       "<pandas.io.formats.style.Styler at 0x1a71b344508>"
      ]
     },
     "execution_count": 80,
     "metadata": {},
     "output_type": "execute_result"
    }
   ],
   "source": [
    "# Calculate final tumor volume of each mouse across four of the most promising treatment regimens: Capomulin, Ramicane, Infubinol, and Ceftamin\n",
    "\n",
    "#DF with the most promising treatment\n",
    "top_four_treatment = [\"Capomulin\", \"Ramicane\", \"Infubinol\", \"Ceftamin\"]\n",
    "top_four_df = combined_df[combined_df[\"Drug_Regimen\"].isin(top_four_treatment)]\n",
    "\n",
    "#Clean DF with only columns wanted for analysis\n",
    "top_four_clean_df = top_four_df[[\"Drug_Regimen\", \"Mouse_ID\", \"Timepoint\", \"Tumor_Volume_(mm3)\"]]\n",
    "top_four_clean_df.head().style.set_table_styles([{'selector':'','props':[('border','4px solid #7a7')]}])"
   ]
  },
  {
   "cell_type": "code",
   "execution_count": 82,
   "metadata": {
    "scrolled": false
   },
   "outputs": [
    {
     "data": {
      "text/html": [
       "<style  type=\"text/css\" >\n",
       "    #T_d3e9ccc6_ae30_11ea_a048_b46bfcdeb885  {\n",
       "          border: 4px solid #7a7;\n",
       "    }</style><table id=\"T_d3e9ccc6_ae30_11ea_a048_b46bfcdeb885\" ><thead>    <tr>        <th class=\"blank level0\" ></th>        <th class=\"col_heading level0 col0\" >Drug_Regimen</th>        <th class=\"col_heading level0 col1\" >Mouse_ID</th>        <th class=\"col_heading level0 col2\" >Timepoint</th>        <th class=\"col_heading level0 col3\" >Tumor_Volume_(mm3)</th>    </tr></thead><tbody>\n",
       "                <tr>\n",
       "                        <th id=\"T_d3e9ccc6_ae30_11ea_a048_b46bfcdeb885level0_row0\" class=\"row_heading level0 row0\" >1892</th>\n",
       "                        <td id=\"T_d3e9ccc6_ae30_11ea_a048_b46bfcdeb885row0_col0\" class=\"data row0 col0\" >Capomulin</td>\n",
       "                        <td id=\"T_d3e9ccc6_ae30_11ea_a048_b46bfcdeb885row0_col1\" class=\"data row0 col1\" >m601</td>\n",
       "                        <td id=\"T_d3e9ccc6_ae30_11ea_a048_b46bfcdeb885row0_col2\" class=\"data row0 col2\" >45</td>\n",
       "                        <td id=\"T_d3e9ccc6_ae30_11ea_a048_b46bfcdeb885row0_col3\" class=\"data row0 col3\" >28.430964</td>\n",
       "            </tr>\n",
       "            <tr>\n",
       "                        <th id=\"T_d3e9ccc6_ae30_11ea_a048_b46bfcdeb885level0_row1\" class=\"row_heading level0 row1\" >1700</th>\n",
       "                        <td id=\"T_d3e9ccc6_ae30_11ea_a048_b46bfcdeb885row1_col0\" class=\"data row1 col0\" >Capomulin</td>\n",
       "                        <td id=\"T_d3e9ccc6_ae30_11ea_a048_b46bfcdeb885row1_col1\" class=\"data row1 col1\" >s185</td>\n",
       "                        <td id=\"T_d3e9ccc6_ae30_11ea_a048_b46bfcdeb885row1_col2\" class=\"data row1 col2\" >45</td>\n",
       "                        <td id=\"T_d3e9ccc6_ae30_11ea_a048_b46bfcdeb885row1_col3\" class=\"data row1 col3\" >23.343598</td>\n",
       "            </tr>\n",
       "            <tr>\n",
       "                        <th id=\"T_d3e9ccc6_ae30_11ea_a048_b46bfcdeb885level0_row2\" class=\"row_heading level0 row2\" >1364</th>\n",
       "                        <td id=\"T_d3e9ccc6_ae30_11ea_a048_b46bfcdeb885row2_col0\" class=\"data row2 col0\" >Ceftamin</td>\n",
       "                        <td id=\"T_d3e9ccc6_ae30_11ea_a048_b46bfcdeb885row2_col1\" class=\"data row2 col1\" >y865</td>\n",
       "                        <td id=\"T_d3e9ccc6_ae30_11ea_a048_b46bfcdeb885row2_col2\" class=\"data row2 col2\" >45</td>\n",
       "                        <td id=\"T_d3e9ccc6_ae30_11ea_a048_b46bfcdeb885row2_col3\" class=\"data row2 col3\" >64.729837</td>\n",
       "            </tr>\n",
       "            <tr>\n",
       "                        <th id=\"T_d3e9ccc6_ae30_11ea_a048_b46bfcdeb885level0_row3\" class=\"row_heading level0 row3\" >1497</th>\n",
       "                        <td id=\"T_d3e9ccc6_ae30_11ea_a048_b46bfcdeb885row3_col0\" class=\"data row3 col0\" >Ceftamin</td>\n",
       "                        <td id=\"T_d3e9ccc6_ae30_11ea_a048_b46bfcdeb885row3_col1\" class=\"data row3 col1\" >x581</td>\n",
       "                        <td id=\"T_d3e9ccc6_ae30_11ea_a048_b46bfcdeb885row3_col2\" class=\"data row3 col2\" >45</td>\n",
       "                        <td id=\"T_d3e9ccc6_ae30_11ea_a048_b46bfcdeb885row3_col3\" class=\"data row3 col3\" >64.634949</td>\n",
       "            </tr>\n",
       "            <tr>\n",
       "                        <th id=\"T_d3e9ccc6_ae30_11ea_a048_b46bfcdeb885level0_row4\" class=\"row_heading level0 row4\" >1844</th>\n",
       "                        <td id=\"T_d3e9ccc6_ae30_11ea_a048_b46bfcdeb885row4_col0\" class=\"data row4 col0\" >Capomulin</td>\n",
       "                        <td id=\"T_d3e9ccc6_ae30_11ea_a048_b46bfcdeb885row4_col1\" class=\"data row4 col1\" >l897</td>\n",
       "                        <td id=\"T_d3e9ccc6_ae30_11ea_a048_b46bfcdeb885row4_col2\" class=\"data row4 col2\" >45</td>\n",
       "                        <td id=\"T_d3e9ccc6_ae30_11ea_a048_b46bfcdeb885row4_col3\" class=\"data row4 col3\" >38.846876</td>\n",
       "            </tr>\n",
       "    </tbody></table>"
      ],
      "text/plain": [
       "<pandas.io.formats.style.Styler at 0x1a71c5bdac8>"
      ]
     },
     "execution_count": 82,
     "metadata": {},
     "output_type": "execute_result"
    }
   ],
   "source": [
    "# Calculate the final tumor volume of each mouse across four of the most promising treatment regimens.\n",
    "\n",
    "# Sorted DF in descending order by Timepoint\n",
    "top_four_sorted = top_four_clean_df.sort_values(\"Timepoint\", ascending=False)\n",
    "\n",
    "# Clean value and keep the first listed Mouse_ID in Dataframe.\n",
    "top_four_result = top_four_sorted.drop_duplicates(subset =\"Mouse_ID\", keep='first' )\n",
    "\n",
    "#list summary table\n",
    "top_four_result.head().style.set_table_styles([{'selector':'','props':[('border','4px solid #7a7')]}])   "
   ]
  },
  {
   "cell_type": "code",
   "execution_count": 83,
   "metadata": {
    "scrolled": true
   },
   "outputs": [
    {
     "name": "stdout",
     "output_type": "stream",
     "text": [
      "----------------------------------------------------------\n",
      "The lower quartile is: 37.19\n",
      "The upper quartile is: 59.93\n",
      "The interquartile range of the final results is: 22.74\n",
      "----------------------------------------------------------\n",
      "There are 3.08 lower limit.\n",
      "There are 94.04 upper limit.\n",
      "There are 0 outliers in the dataset.\n",
      "----------------------------------------------------------\n",
      "\n"
     ]
    }
   ],
   "source": [
    "# Calcaulate the quartiles and IQR and quantitatively determine if there are any potential outliers. \n",
    "treatment_results = top_four_result['Tumor_Volume_(mm3)']\n",
    "\n",
    "quartiles = treatment_results.quantile([.25,.5,.75])\n",
    "lower = quartiles[0.25].round(2)\n",
    "upper = quartiles[0.75].round(2)\n",
    "interq = round(upper-lower,2)\n",
    "\n",
    "print(f\"----------------------------------------------------------\")\n",
    "print(f\"The lower quartile is: {lower}\")\n",
    "print(f\"The upper quartile is: {upper}\")\n",
    "print(f\"The interquartile range of the final results is: {interq}\")\n",
    "\n",
    "lower_range = round(lower - (1.5*interq),2)\n",
    "upper_bound = round(upper + (1.5*interq),2)\n",
    "\n",
    "lower_outliers = treatment_results[treatment_results < lower_range].count().round(2)\n",
    "upper_outliers = treatment_results[treatment_results > upper_bound].count().round(2)\n",
    "total_outliers = lower_outliers + upper_outliers\n",
    "print(f\"----------------------------------------------------------\")\n",
    "print(f\"There are {lower_range} lower limit.\")\n",
    "print(f\"There are {upper_bound} upper limit.\")\n",
    "print(f\"There are {total_outliers} outliers in the dataset.\")\n",
    "print(f\"----------------------------------------------------------\")\n",
    "print()"
   ]
  },
  {
   "cell_type": "code",
   "execution_count": 84,
   "metadata": {},
   "outputs": [],
   "source": [
    "#Create dataframe of each Drug Regimen for anlaysis\n",
    "Infubinol_df = top_four_result.loc[top_four_result[\"Drug_Regimen\"] == \"Infubinol\"][\"Tumor_Volume_(mm3)\"]\n",
    "capomulin_df = top_four_result.loc[top_four_result[\"Drug_Regimen\"] == \"Capomulin\"][\"Tumor_Volume_(mm3)\"]\n",
    "ramicane_df = top_four_result.loc[top_four_result[\"Drug_Regimen\"] == \"Ramicane\"][\"Tumor_Volume_(mm3)\"]\n",
    "ceftamin_df = top_four_result.loc[top_four_result[\"Drug_Regimen\"] == \"Ceftamin\"][\"Tumor_Volume_(mm3)\"]"
   ]
  },
  {
   "cell_type": "code",
   "execution_count": 57,
   "metadata": {},
   "outputs": [
    {
     "name": "stdout",
     "output_type": "stream",
     "text": [
      "----------------------------------------------------------\n",
      "The lower quartile of the Infubinol trials is: 54.05\n",
      "The upper quartile of the Infubinol trials is: 65.53\n",
      "The interquartile range of the Infubinol trials is: 11.48\n",
      "----------------------------------------------------------\n",
      "There are 1 outliers in the Infubinol trials.\n",
      "----------------------------------------------------------\n"
     ]
    }
   ],
   "source": [
    "\n",
    "# Calcualed quartitile and IQR and quantitatively determine if there are any potential outliers across all . \n",
    "quartiles_inf = Infubinol_df.quantile([.25,.5,.75])\n",
    "lowerq_inf = quartiles_inf[0.25].round(2)\n",
    "upperq_inf = quartiles_inf[0.75].round(2)\n",
    "iqr_inf = round(upperq_inf-lowerq_inf,2)\n",
    "print(f\"----------------------------------------------------------\")\n",
    "print(f\"The lower quartile of the Infubinol trials is: {lowerq_inf}\")\n",
    "print(f\"The upper quartile of the Infubinol trials is: {upperq_inf}\")\n",
    "print(f\"The interquartile range of the Infubinol trials is: {iqr_inf}\")\n",
    "print(f\"----------------------------------------------------------\")\n",
    "lower_range_inf = round(lowerq_inf - (1.5*iqr_inf),2)\n",
    "upper_bound_inf = round(upperq_inf + (1.5*iqr_inf),2)\n",
    "\n",
    "lower_outliers_inf = Infubinol_df[Infubinol_df < lower_range_inf].count()\n",
    "upper_outliers_inf = Infubinol_df[Infubinol_df > upper_bound_inf].count()\n",
    "total_outliers_inf = lower_outliers_inf + upper_outliers_inf\n",
    "\n",
    "print(f\"There are {total_outliers_inf} outliers in the Infubinol trials.\")\n",
    "print(f\"----------------------------------------------------------\")"
   ]
  },
  {
   "cell_type": "code",
   "execution_count": 58,
   "metadata": {},
   "outputs": [
    {
     "name": "stdout",
     "output_type": "stream",
     "text": [
      "----------------------------------------------------------\n",
      "The lower quartile of the Capomulin trials is: 32.38\n",
      "The upper quartile of the Capomulin trials is: 40.16\n",
      "The interquartile range of the Capomulin trials is: 7.78\n",
      "----------------------------------------------------------\n",
      "There are 0 outliers in the Capomulin trials.\n",
      "----------------------------------------------------------\n"
     ]
    }
   ],
   "source": [
    "# Calcualed quartitile and IQR and quantitatively determine if there are any potential outliers across all . \n",
    "quartiles_cap = capomulin_df.quantile([.25,.5,.75])\n",
    "lowerq_cap = quartiles_cap[0.25].round(2)\n",
    "upperq_cap = quartiles_cap[0.75].round(2)\n",
    "iqr_cap = round(upperq_cap-lowerq_cap,2)\n",
    "print(f\"----------------------------------------------------------\")\n",
    "print(f\"The lower quartile of the Capomulin trials is: {lowerq_cap}\")\n",
    "print(f\"The upper quartile of the Capomulin trials is: {upperq_cap}\")\n",
    "print(f\"The interquartile range of the Capomulin trials is: {iqr_cap}\")\n",
    "print(f\"----------------------------------------------------------\")\n",
    "lower_range_cap = round(lowerq_cap - (1.5*iqr_cap),2)\n",
    "upper_bound_cap = round(upperq_cap + (1.5*iqr_cap),2)\n",
    "\n",
    "lower_outliers_cap = capomulin_df[capomulin_df < lower_range_cap].count()\n",
    "upper_outliers_cap = capomulin_df[capomulin_df > upper_bound_cap].count()\n",
    "total_outliers_cap = lower_outliers_cap + upper_outliers_cap\n",
    "\n",
    "print(f\"There are {total_outliers_cap} outliers in the Capomulin trials.\")\n",
    "print(f\"----------------------------------------------------------\")"
   ]
  },
  {
   "cell_type": "code",
   "execution_count": 59,
   "metadata": {},
   "outputs": [
    {
     "name": "stdout",
     "output_type": "stream",
     "text": [
      "----------------------------------------------------------\n",
      "The lower quartile of the Ramicane trials is: 31.56\n",
      "The upper quartile of the Ramicane trials is: 40.66\n",
      "The interquartile range of the Ramicane trials is: 9.1\n",
      "----------------------------------------------------------\n",
      "There are 0 outliers in the Ramicane trials.\n",
      "----------------------------------------------------------\n"
     ]
    }
   ],
   "source": [
    "# Calcualed quartitile and IQR and quantitatively determine if there are any potential outliers across all  \n",
    "quartiles_ram = ramicane_df.quantile([.25,.5,.75])\n",
    "lowerq_ram = quartiles_ram[0.25].round(2)\n",
    "upperq_ram = quartiles_ram[0.75].round(2)\n",
    "iqr_ram = round(upperq_ram-lowerq_ram,2)\n",
    "print(f\"----------------------------------------------------------\")\n",
    "print(f\"The lower quartile of the Ramicane trials is: {lowerq_ram}\")\n",
    "print(f\"The upper quartile of the Ramicane trials is: {upperq_ram}\")\n",
    "print(f\"The interquartile range of the Ramicane trials is: {iqr_ram}\")\n",
    "print(f\"----------------------------------------------------------\")\n",
    "lower_range_ram = round(lowerq_ram - (1.5*iqr_ram),2)\n",
    "upper_bound_ram = round(upperq_ram + (1.5*iqr_ram),2)\n",
    "\n",
    "lower_outliers_ram = ramicane_df[ramicane_df < lower_range_ram].count()\n",
    "upper_outliers_ram = ramicane_df[ramicane_df > upper_bound_ram].count()\n",
    "total_outliers_ram = lower_outliers_ram + upper_outliers_ram\n",
    "\n",
    "print(f\"There are {total_outliers_ram} outliers in the Ramicane trials.\")\n",
    "print(f\"----------------------------------------------------------\")"
   ]
  },
  {
   "cell_type": "code",
   "execution_count": 60,
   "metadata": {},
   "outputs": [
    {
     "name": "stdout",
     "output_type": "stream",
     "text": [
      "----------------------------------------------------------\n",
      "The lower quartile of the Ceftamin trials is: 48.72\n",
      "The upper quartile of the Ceftamin trials is: 64.3\n",
      "The interquartile range of the Ceftamin trials is: 15.58\n",
      "----------------------------------------------------------\n",
      "There are 0 outliers in the Ceftamin trials.\n",
      "----------------------------------------------------------\n"
     ]
    }
   ],
   "source": [
    "# Calcualed quartitile and IQR and quantitatively determine if there are any potential outliers across all four treatment regimes. \n",
    "quartiles_cef = ceftamin_df.quantile([.25,.5,.75])\n",
    "lowerq_cef = quartiles_cef[0.25].round(2)\n",
    "upperq_cef = quartiles_cef[0.75].round(2)\n",
    "iqr_cef = round(upperq_cef-lowerq_cef,2)\n",
    "print(f\"----------------------------------------------------------\")\n",
    "print(f\"The lower quartile of the Ceftamin trials is: {lowerq_cef}\")\n",
    "print(f\"The upper quartile of the Ceftamin trials is: {upperq_cef}\")\n",
    "print(f\"The interquartile range of the Ceftamin trials is: {iqr_cef}\")\n",
    "print(f\"----------------------------------------------------------\")\n",
    "lower_range_cef = round(lowerq_cef - (1.5*iqr_cef),2)\n",
    "upper_bound_cef = round(upperq_cef + (1.5*iqr_cef),2)\n",
    "\n",
    "lower_outliers_cef = ceftamin_df[ceftamin_df < lower_range_cef].count()\n",
    "upper_outliers_cef = ceftamin_df[ceftamin_df > upper_bound_cef].count()\n",
    "total_outliers_cef = lower_outliers_cef + upper_outliers_cef\n",
    "\n",
    "print(f\"There are {total_outliers_cef} outliers in the Ceftamin trials.\")\n",
    "print(f\"----------------------------------------------------------\")"
   ]
  },
  {
   "cell_type": "markdown",
   "metadata": {},
   "source": [
    "# Whisker Plot\n",
    "### Final tumor volume for all four treatment regiments"
   ]
  },
  {
   "cell_type": "code",
   "execution_count": 98,
   "metadata": {
    "scrolled": true
   },
   "outputs": [
    {
     "data": {
      "image/png": "[encoded data removed]",
      "text/plain": [
       "<Figure size 432x288 with 1 Axes>"
      ]
     },
     "metadata": {
      "needs_background": "light"
     },
     "output_type": "display_data"
    }
   ],
   "source": [
    "# Plot of the final tumor volume of each mouse across four regimens of interest\n",
    "fig1, ax1 = plt.subplots()\n",
    "ax1.set_title('Final Results Of The Top Four Regimen')\n",
    "ax1.set_ylabel('Tumor Size at end of trial')\n",
    "plt.boxplot([capomulin_df,ramicane_df,Infubinol_df,ceftamin_df], labels =top_four_treatment)\n",
    "plt.savefig(\"images/boxplot.PNG\")\n",
    "plt.show()"
   ]
  },
  {
   "cell_type": "markdown",
   "metadata": {},
   "source": [
    "## Line and scatter plots"
   ]
  },
  {
   "cell_type": "code",
   "execution_count": 102,
   "metadata": {},
   "outputs": [
    {
     "data": {
      "text/plain": [
       "[<matplotlib.lines.Line2D at 0x1a71c857748>]"
      ]
     },
     "execution_count": 102,
     "metadata": {},
     "output_type": "execute_result"
    },
    {
     "data": {
      "image/png": "[encoded data removed]",
      "text/plain": [
       "<Figure size 432x288 with 1 Axes>"
      ]
     },
     "metadata": {
      "needs_background": "light"
     },
     "output_type": "display_data"
    }
   ],
   "source": [
    "# Plot of time point versus tumor volume for a mouse treated with Capomulin.\n",
    "mouse_ID = [\"b128\"]\n",
    "mouse_trial = top_four_sorted[top_four_sorted[\"Mouse_ID\"].isin(mouse_ID)]\n",
    "\n",
    "plt.title(\"Tumor Volume Over Time\", fontsize=20)\n",
    "plt.xlabel(\"Day\", fontsize=10)\n",
    "plt.ylabel(\"Tumor Volume\", fontsize=10)\n",
    "plt.savefig(\"images/linechart.PNG\")\n",
    "plt.plot(mouse_trial[\"Timepoint\"],mouse_trial[\"Tumor_Volume_(mm3)\"])"
   ]
  },
  {
   "cell_type": "code",
   "execution_count": 100,
   "metadata": {
    "scrolled": true
   },
   "outputs": [
    {
     "data": {
      "image/png": "[encoded data removed]",
      "text/plain": [
       "<Figure size 432x288 with 1 Axes>"
      ]
     },
     "metadata": {
      "needs_background": "light"
     },
     "output_type": "display_data"
    }
   ],
   "source": [
    "Weight_vs_volume = [\"Capomulin\"]\n",
    "Weight_vs_volume_combined = combined_df[combined_df[\"Drug_Regimen\"].isin(Weight_vs_volume)]\n",
    "Weight_trial = combined_df.loc[combined_df[\"Drug_Regimen\"] == \"Capomulin\"][\"Weight_(g)\"].unique()\n",
    "the_mean = Weight_vs_volume_combined.groupby(Weight_Vol_Trial_Result[\"Weight_(g)\"])[\"Tumor_Volume_(mm3)\"].mean()\n",
    "\n",
    "plt.title(\"Weight vs. Volume\")\n",
    "plt.xlabel(\"Weight\")\n",
    "plt.ylabel(\"Volume\")\n",
    "plt.scatter(Weight_trial,the_mean)\n",
    "plt.savefig(\"images/scatter.PNG\")\n",
    "plt.show()"
   ]
  },
  {
   "cell_type": "code",
   "execution_count": 101,
   "metadata": {},
   "outputs": [
    {
     "data": {
      "image/png": "[encoded data removed]",
      "text/plain": [
       "<Figure size 432x288 with 1 Axes>"
      ]
     },
     "metadata": {
      "needs_background": "light"
     },
     "output_type": "display_data"
    },
    {
     "name": "stdout",
     "output_type": "stream",
     "text": [
      "The correlation between the factors is 0.21\n"
     ]
    }
   ],
   "source": [
    "# Correlation coefficient and linear regression model between mouse weight and average tumor volume for the Capomulin treatment.\n",
    "correlation = st.pearsonr(Weight_Trial,the_mean)\n",
    "\n",
    "(slope, intercept, rvalue, pvalue, stderr) = st.linregress(Weight_trial, the_mean)\n",
    "regress_values = Weight_trial * slope + intercept\n",
    "line_eq = \"y = \" + str(round(slope,2)) + \"x + \" + str(round(intercept,2))\n",
    "\n",
    "plt.title(\"Mouse Weight vs. Avg. Tumor Volume\", fontsize=20)\n",
    "plt.xlabel(\"Mouse Weight\", fontsize=10)\n",
    "plt.ylabel(\"Tumor volume\", fontsize=10)\n",
    "plt.plot(Weight_trial,regress_values,\"r-\")\n",
    "plt.annotate(line_eq,(20,40),fontsize=15,color=\"red\")\n",
    "plt.scatter(Weight_trial,the_mean)\n",
    "plt.savefig(\"images/plot.PNG\")\n",
    "plt.show()\n",
    "print(f\"The correlation between the factors is {round(correlation[0],2)}\")"
   ]
  },
  {
   "cell_type": "code",
   "execution_count": null,
   "metadata": {},
   "outputs": [],
   "source": []
  }
 ],
 "metadata": {
  "anaconda-cloud": {},
  "kernelspec": {
   "display_name": "Python 3",
   "language": "python",
   "name": "python3"
  },
  "language_info": {
   "codemirror_mode": {
    "name": "ipython",
    "version": 3
   },
   "file_extension": ".py",
   "mimetype": "text/x-python",
   "name": "python",
   "nbconvert_exporter": "python",
   "pygments_lexer": "ipython3",
   "version": "3.7.7"
  }
 },
 "nbformat": 4,
 "nbformat_minor": 2
}
